{
 "cells": [
  {
   "cell_type": "code",
   "execution_count": 1,
   "id": "49e78797-5313-40fe-9bbe-b3528e65e293",
   "metadata": {},
   "outputs": [
    {
     "name": "stdout",
     "output_type": "stream",
     "text": [
      "it worked\n"
     ]
    }
   ],
   "source": [
    "if 25>10:\n",
    "    print('it worked')"
   ]
  },
  {
   "cell_type": "code",
   "execution_count": 6,
   "id": "cd2b286e-fdbb-4edf-9aa4-5ff85a82a9af",
   "metadata": {},
   "outputs": [
    {
     "name": "stdout",
     "output_type": "stream",
     "text": [
      "it's not worked\n"
     ]
    }
   ],
   "source": [
    "if 25<10:\n",
    "    print('it worked')\n",
    "else:\n",
    "    print(\"it's not worked\")"
   ]
  },
  {
   "cell_type": "code",
   "execution_count": 8,
   "id": "d7ac240f-b902-42c5-bb64-f17c61ac1187",
   "metadata": {},
   "outputs": [
    {
     "name": "stdout",
     "output_type": "stream",
     "text": [
      "elif worked\n"
     ]
    }
   ],
   "source": [
    "if 25<10:\n",
    "    print('it worked')\n",
    "elif 25<30:\n",
    "    print('elif worked')\n",
    "else:\n",
    "    print('it did not work')"
   ]
  },
  {
   "cell_type": "code",
   "execution_count": 9,
   "id": "265f7b74-4fa5-42df-9981-696e0a6f9db4",
   "metadata": {},
   "outputs": [
    {
     "name": "stdout",
     "output_type": "stream",
     "text": [
      "elif 2 worked\n"
     ]
    }
   ],
   "source": [
    "if 25<10:\n",
    "    print('it worked')\n",
    "elif 25>30:\n",
    "    print('elif 1 worked')\n",
    "elif 25>10:\n",
    "    print('elif 2 worked')\n",
    "elif 25<30:\n",
    "    print('elif 3 worked')\n",
    "else:\n",
    "    print('it did not work')"
   ]
  },
  {
   "cell_type": "code",
   "execution_count": null,
   "id": "afa3af30-b6a7-434a-b6ef-64ac614056d2",
   "metadata": {},
   "outputs": [],
   "source": [
    "# Above as a example that ,if the statement is true and then it will not execute the below statesment even if it is true"
   ]
  },
  {
   "cell_type": "code",
   "execution_count": 11,
   "id": "29503910-e98e-47bf-bab2-d3eef2c6e6b7",
   "metadata": {},
   "outputs": [
    {
     "name": "stdout",
     "output_type": "stream",
     "text": [
      "its worked\n"
     ]
    }
   ],
   "source": [
    " print('its worked') if 9>1 else print('its not worked')"
   ]
  },
  {
   "cell_type": "code",
   "execution_count": 12,
   "id": "0b4a9953-d353-4d69-8efd-8c4f07211189",
   "metadata": {},
   "outputs": [
    {
     "ename": "SyntaxError",
     "evalue": "invalid syntax (3873877863.py, line 1)",
     "output_type": "error",
     "traceback": [
      "  \u001b[36mCell\u001b[39m\u001b[36m \u001b[39m\u001b[32mIn[12]\u001b[39m\u001b[32m, line 1\u001b[39m\n\u001b[31m    \u001b[39m\u001b[31mif 9>1 print('its worked')  else print('its not worked')\u001b[39m\n           ^\n\u001b[31mSyntaxError\u001b[39m\u001b[31m:\u001b[39m invalid syntax\n"
     ]
    }
   ],
   "source": [
    "if 9>1 print('its worked')  else print('its not worked')"
   ]
  },
  {
   "cell_type": "markdown",
   "id": "222153b1-744d-4740-b667-707789796947",
   "metadata": {},
   "source": [
    "## Nested If"
   ]
  },
  {
   "cell_type": "code",
   "execution_count": 13,
   "id": "c362a387-211c-4398-a501-6686c006c7a9",
   "metadata": {},
   "outputs": [
    {
     "name": "stdout",
     "output_type": "stream",
     "text": [
      "elif 1 worked\n",
      "nested if is working\n"
     ]
    }
   ],
   "source": [
    "if 25<10:\n",
    "    print('it worked')\n",
    "elif 25<30:\n",
    "    print('elif 1 worked')\n",
    "    if 10>5:\n",
    "        print('nested if is working')\n",
    "elif 25>10:\n",
    "    print('elif 2 worked')\n",
    "elif 25<30:\n",
    "    print('elif 3 worked')\n",
    "else:\n",
    "    print('it did not work')"
   ]
  },
  {
   "cell_type": "code",
   "execution_count": null,
   "id": "2a6b983b-5510-43d9-86c3-948fd9df2e2d",
   "metadata": {},
   "outputs": [],
   "source": []
  }
 ],
 "metadata": {
  "kernelspec": {
   "display_name": "Python 3 (ipykernel)",
   "language": "python",
   "name": "python3"
  },
  "language_info": {
   "codemirror_mode": {
    "name": "ipython",
    "version": 3
   },
   "file_extension": ".py",
   "mimetype": "text/x-python",
   "name": "python",
   "nbconvert_exporter": "python",
   "pygments_lexer": "ipython3",
   "version": "3.13.3"
  }
 },
 "nbformat": 4,
 "nbformat_minor": 5
}
