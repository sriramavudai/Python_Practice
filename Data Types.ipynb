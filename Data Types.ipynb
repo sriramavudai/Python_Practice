{
 "cells": [
  {
   "cell_type": "markdown",
   "id": "0470180d-eceb-4881-a024-c645a647b3d6",
   "metadata": {},
   "source": [
    "# Data Types"
   ]
  },
  {
   "cell_type": "code",
   "execution_count": 1,
   "id": "362430af-3088-4266-bf74-e1a41c1e95cf",
   "metadata": {},
   "outputs": [
    {
     "data": {
      "text/plain": [
       "str"
      ]
     },
     "execution_count": 1,
     "metadata": {},
     "output_type": "execute_result"
    }
   ],
   "source": [
    "\n",
    "a=\"\"\"\n",
    "Hi iam sriram's new assistant,\"\"how can i help you\"\"\n",
    "\"\"\"\n",
    "type(a)"
   ]
  },
  {
   "cell_type": "code",
   "execution_count": 2,
   "id": "1c380320-fb05-4f35-991a-2302c53c03af",
   "metadata": {},
   "outputs": [
    {
     "name": "stdout",
     "output_type": "stream",
     "text": [
      "bdmbsdmn\n",
      "hefbhejbf\n",
      "khwdhkkdhn\n"
     ]
    }
   ],
   "source": [
    "b='bdmbsdmn\\nhefbhejbf\\nkhwdhkkdhn'\n",
    "print(b)"
   ]
  },
  {
   "cell_type": "code",
   "execution_count": 3,
   "id": "9cb100fa-27fe-4391-a5f4-c94acbaf06b3",
   "metadata": {},
   "outputs": [
    {
     "name": "stdout",
     "output_type": "stream",
     "text": [
      "dlrow olleH\n"
     ]
    }
   ],
   "source": [
    "c='Hello world'\n",
    "print(c[::-1])"
   ]
  },
  {
   "cell_type": "code",
   "execution_count": 4,
   "id": "718b2245-5efd-4bff-bdd4-46ce51165ce2",
   "metadata": {},
   "outputs": [
    {
     "data": {
      "text/plain": [
       "'Hello worl'"
      ]
     },
     "execution_count": 4,
     "metadata": {},
     "output_type": "execute_result"
    }
   ],
   "source": [
    "c[:-1]"
   ]
  },
  {
   "cell_type": "code",
   "execution_count": 5,
   "id": "94705006-85a4-477b-88af-7d266218c21c",
   "metadata": {},
   "outputs": [],
   "source": [
    "d = 'Sriram'"
   ]
  },
  {
   "cell_type": "code",
   "execution_count": 6,
   "id": "f964a73b-bfa6-4391-b84e-71cc4218bd91",
   "metadata": {},
   "outputs": [
    {
     "data": {
      "text/plain": [
       "'Hello world Sriram'"
      ]
     },
     "execution_count": 6,
     "metadata": {},
     "output_type": "execute_result"
    }
   ],
   "source": [
    "c + ' ' + d"
   ]
  },
  {
   "cell_type": "code",
   "execution_count": 7,
   "id": "006763f6-d829-4136-a5f6-6b1aefcc3f40",
   "metadata": {},
   "outputs": [
    {
     "data": {
      "text/plain": [
       "'Hello worldSriram'"
      ]
     },
     "execution_count": 7,
     "metadata": {},
     "output_type": "execute_result"
    }
   ],
   "source": [
    "c + d"
   ]
  },
  {
   "cell_type": "markdown",
   "id": "d77f9fa2-4a7e-472e-917e-62c035fbd650",
   "metadata": {},
   "source": [
    "## List"
   ]
  },
  {
   "cell_type": "code",
   "execution_count": 8,
   "id": "87b2c1a0-e2d3-4881-9085-dbb857ff7816",
   "metadata": {},
   "outputs": [
    {
     "data": {
      "text/plain": [
       "[1, 2, 3]"
      ]
     },
     "execution_count": 8,
     "metadata": {},
     "output_type": "execute_result"
    }
   ],
   "source": [
    "[1,2,3]"
   ]
  },
  {
   "cell_type": "code",
   "execution_count": 9,
   "id": "44052da8-aa66-432a-98cf-695dfc9a757d",
   "metadata": {},
   "outputs": [
    {
     "data": {
      "text/plain": [
       "['Arun', 'Karthik', 'Lokesh', 'Nelson']"
      ]
     },
     "execution_count": 9,
     "metadata": {},
     "output_type": "execute_result"
    }
   ],
   "source": [
    "['Arun','Karthik','Lokesh','Nelson']"
   ]
  },
  {
   "cell_type": "code",
   "execution_count": 10,
   "id": "8dedb128-d6c6-4e34-9bb5-e776251d247a",
   "metadata": {},
   "outputs": [
    {
     "data": {
      "text/plain": [
       "['Power', 3, ['Ton', 'Hundred'], True]"
      ]
     },
     "execution_count": 10,
     "metadata": {},
     "output_type": "execute_result"
    }
   ],
   "source": [
    "['Power',3,['Ton','Hundred'],True]"
   ]
  },
  {
   "cell_type": "code",
   "execution_count": 11,
   "id": "c18a8754-3b38-42d4-b974-72ff605178b1",
   "metadata": {},
   "outputs": [],
   "source": [
    "# In list we can add any data types within tthe list\n",
    "# In strings valued are stored in single value but in list it is seperate value\n",
    "# changeable"
   ]
  },
  {
   "cell_type": "code",
   "execution_count": 12,
   "id": "9a075433-3b65-4372-ad7d-49a79732d501",
   "metadata": {},
   "outputs": [],
   "source": [
    "#lots of built ins(Attributes) like append(),pop(),etc..."
   ]
  },
  {
   "cell_type": "code",
   "execution_count": 13,
   "id": "7dfa963b-119e-4a15-a27b-5e66c2dac059",
   "metadata": {},
   "outputs": [],
   "source": [
    "movie = ['Naan ee',True,1,['Baahubali_1','Baahubali_2'],'RRR']"
   ]
  },
  {
   "cell_type": "code",
   "execution_count": 14,
   "id": "4f0e5ab4-c367-4875-a432-1f4bddfacc7c",
   "metadata": {},
   "outputs": [
    {
     "data": {
      "text/plain": [
       "'Naan ee'"
      ]
     },
     "execution_count": 14,
     "metadata": {},
     "output_type": "execute_result"
    }
   ],
   "source": [
    "movie[0]"
   ]
  },
  {
   "cell_type": "code",
   "execution_count": 15,
   "id": "4007d902-cf62-4cd3-baac-b6c551cc0b01",
   "metadata": {},
   "outputs": [
    {
     "data": {
      "text/plain": [
       "['Baahubali_1', 'Baahubali_2']"
      ]
     },
     "execution_count": 15,
     "metadata": {},
     "output_type": "execute_result"
    }
   ],
   "source": [
    "movie[3]"
   ]
  },
  {
   "cell_type": "code",
   "execution_count": 16,
   "id": "177a3d49-6227-40ea-a169-fb38020de750",
   "metadata": {
    "scrolled": true
   },
   "outputs": [
    {
     "data": {
      "text/plain": [
       "'Baahubali_2'"
      ]
     },
     "execution_count": 16,
     "metadata": {},
     "output_type": "execute_result"
    }
   ],
   "source": [
    "movie[3][1]"
   ]
  },
  {
   "cell_type": "code",
   "execution_count": 17,
   "id": "1908338f-3960-4ee0-8d1d-6149bb3ef71a",
   "metadata": {},
   "outputs": [
    {
     "data": {
      "text/plain": [
       "'Baahubali_1'"
      ]
     },
     "execution_count": 17,
     "metadata": {},
     "output_type": "execute_result"
    }
   ],
   "source": [
    "movie[3][0]"
   ]
  },
  {
   "cell_type": "code",
   "execution_count": 18,
   "id": "aaae1c89-6182-4bce-a738-09a99ad3a7ba",
   "metadata": {},
   "outputs": [],
   "source": [
    "# Above one is called as Nested_List"
   ]
  },
  {
   "cell_type": "markdown",
   "id": "38857d9a-6053-4d5d-9703-a169bdc5af03",
   "metadata": {},
   "source": [
    "## Tuples"
   ]
  },
  {
   "cell_type": "code",
   "execution_count": 19,
   "id": "ce20e553-fa8f-4a61-be6a-0241e340601d",
   "metadata": {},
   "outputs": [],
   "source": [
    "# Unchangeable,immutable , allow duplicates (ones created it cannot be modified)"
   ]
  },
  {
   "cell_type": "code",
   "execution_count": 20,
   "id": "000eed8e-d8dc-4f22-8933-6ed5f5b3b318",
   "metadata": {},
   "outputs": [],
   "source": [
    "tuples_scoop = (1,1,2,3,4)"
   ]
  },
  {
   "cell_type": "code",
   "execution_count": 21,
   "id": "724f5e35-0680-4442-b863-97fd82231aa7",
   "metadata": {},
   "outputs": [
    {
     "data": {
      "text/plain": [
       "tuple"
      ]
     },
     "execution_count": 21,
     "metadata": {},
     "output_type": "execute_result"
    }
   ],
   "source": [
    "type(tuples_scoop)"
   ]
  },
  {
   "cell_type": "code",
   "execution_count": 22,
   "id": "a9a17992-2f08-4eab-ae2f-8f581b4c0d4a",
   "metadata": {},
   "outputs": [
    {
     "data": {
      "text/plain": [
       "tuple"
      ]
     },
     "execution_count": 22,
     "metadata": {},
     "output_type": "execute_result"
    }
   ],
   "source": [
    "z=(1,2,3)\n",
    "type(z)"
   ]
  },
  {
   "cell_type": "code",
   "execution_count": 23,
   "id": "eefb485d-5ece-4d4f-a6db-9cfef5c51830",
   "metadata": {},
   "outputs": [
    {
     "data": {
      "text/plain": [
       "tuple"
      ]
     },
     "execution_count": 23,
     "metadata": {},
     "output_type": "execute_result"
    }
   ],
   "source": [
    "sample_tuples=('Sriram is here',5)\n",
    "type(sample_tuples)"
   ]
  },
  {
   "cell_type": "code",
   "execution_count": 24,
   "id": "380c9211-b42e-4e01-93c7-e4682f3e3209",
   "metadata": {},
   "outputs": [
    {
     "ename": "AttributeError",
     "evalue": "'tuple' object has no attribute 'append'",
     "output_type": "error",
     "traceback": [
      "\u001b[31m---------------------------------------------------------------------------\u001b[39m",
      "\u001b[31mAttributeError\u001b[39m                            Traceback (most recent call last)",
      "\u001b[36mCell\u001b[39m\u001b[36m \u001b[39m\u001b[32mIn[24]\u001b[39m\u001b[32m, line 1\u001b[39m\n\u001b[32m----> \u001b[39m\u001b[32m1\u001b[39m \u001b[43mz\u001b[49m\u001b[43m.\u001b[49m\u001b[43mappend\u001b[49m(\u001b[33m'\u001b[39m\u001b[33ms\u001b[39m\u001b[33m'\u001b[39m)\n",
      "\u001b[31mAttributeError\u001b[39m: 'tuple' object has no attribute 'append'"
     ]
    }
   ],
   "source": [
    "z.append('s')"
   ]
  },
  {
   "cell_type": "code",
   "execution_count": null,
   "id": "f0470fd2-8785-4522-9c97-47e30e8df377",
   "metadata": {},
   "outputs": [],
   "source": [
    "# We cannot append like attributes in Tuples\n",
    "\n",
    "#Tuples basically uses when we uses City name,Country Name,The things that cannot be changed"
   ]
  },
  {
   "cell_type": "markdown",
   "id": "2a42ff21-5fc7-4151-b277-3115210abe6a",
   "metadata": {},
   "source": [
    "## Sets"
   ]
  },
  {
   "cell_type": "code",
   "execution_count": null,
   "id": "7964f693-4286-42f8-9af0-5e65c5a6f15b",
   "metadata": {},
   "outputs": [],
   "source": [
    "# We cannot access through index because doesn't support index(Unordered-collection)\n"
   ]
  },
  {
   "cell_type": "code",
   "execution_count": 35,
   "id": "7eff940c-e961-4945-bea7-43ff3a17e470",
   "metadata": {},
   "outputs": [
    {
     "name": "stdout",
     "output_type": "stream",
     "text": [
      "{1, 2, 3, 4, 5, 7, 75}\n"
     ]
    }
   ],
   "source": [
    "Int_Sets = {1,3,2,5,4,75,7,5,7,5}\n",
    "JB = list(Int_Sets)\n",
    "print(Int_Sets)"
   ]
  },
  {
   "cell_type": "code",
   "execution_count": null,
   "id": "329a0e47-20be-44b2-a4f1-511c875b573a",
   "metadata": {},
   "outputs": [],
   "source": [
    "# It don't allow Duplicates"
   ]
  },
  {
   "cell_type": "code",
   "execution_count": 28,
   "id": "31097047-8e72-4334-9948-63fbb3a90dbd",
   "metadata": {},
   "outputs": [],
   "source": [
    "Int_Sets2 = {1,2,5,5,4,1,5,4,5,6,8,7}\n"
   ]
  },
  {
   "cell_type": "code",
   "execution_count": 29,
   "id": "448092bb-05c9-4848-ba47-c92b436a463f",
   "metadata": {},
   "outputs": [
    {
     "name": "stdout",
     "output_type": "stream",
     "text": [
      "{3, 6, 8, 75}\n"
     ]
    }
   ],
   "source": [
    "print(Int_Sets ^ Int_Sets2)"
   ]
  },
  {
   "cell_type": "code",
   "execution_count": 32,
   "id": "4564b0b8-a92b-4d74-8a03-ac85f7781b74",
   "metadata": {},
   "outputs": [
    {
     "name": "stdout",
     "output_type": "stream",
     "text": [
      "{75, 3}\n",
      "{1, 2, 4, 5, 7}\n"
     ]
    }
   ],
   "source": [
    "print(Int_Sets - Int_Sets2)\n",
    "print(Int_Sets & Int_Sets2)"
   ]
  },
  {
   "cell_type": "markdown",
   "id": "65e14883-5b80-4241-aa66-2a59007cf300",
   "metadata": {},
   "source": [
    "## Dictionaries"
   ]
  },
  {
   "cell_type": "code",
   "execution_count": null,
   "id": "6ab6d2ae-b9da-4f7e-9186-c2e625b11082",
   "metadata": {},
   "outputs": [],
   "source": [
    "# Key/Value Pair"
   ]
  },
  {
   "cell_type": "code",
   "execution_count": 42,
   "id": "d2aecb92-f915-459b-bfaa-bc2a2abf7cde",
   "metadata": {},
   "outputs": [
    {
     "name": "stdout",
     "output_type": "stream",
     "text": [
      "{'5 Time Champions': ['CSK', 'MI'], '3 Times Champion': ['KKR'], '2 Times Champions': 'SRH', '1 Times Champions': ['RR', 'GT', 'RCB']}\n"
     ]
    },
    {
     "data": {
      "text/plain": [
       "dict"
      ]
     },
     "execution_count": 42,
     "metadata": {},
     "output_type": "execute_result"
    }
   ],
   "source": [
    "dict_ipl = {'5 Time Champions' : ['CSK','MI'],'3 Times Champion':['KKR'],'2 Times Champions':'SRH','1 Times Champions':['RR','GT','RCB']}\n",
    "print(dict_ipl)\n",
    "type(dict_ipl)"
   ]
  },
  {
   "cell_type": "code",
   "execution_count": 44,
   "id": "64a238b5-80a2-4a9a-a4d1-e88aada27652",
   "metadata": {},
   "outputs": [
    {
     "data": {
      "text/plain": [
       "dict_values([['CSK', 'MI'], ['KKR'], 'SRH', ['RR', 'GT', 'RCB']])"
      ]
     },
     "execution_count": 44,
     "metadata": {},
     "output_type": "execute_result"
    }
   ],
   "source": [
    "dict_ipl.values()"
   ]
  },
  {
   "cell_type": "code",
   "execution_count": 48,
   "id": "e9c93562-4bb4-4658-a615-dea2670f3a09",
   "metadata": {},
   "outputs": [
    {
     "ename": "KeyError",
     "evalue": "0",
     "output_type": "error",
     "traceback": [
      "\u001b[31m---------------------------------------------------------------------------\u001b[39m",
      "\u001b[31mKeyError\u001b[39m                                  Traceback (most recent call last)",
      "\u001b[36mCell\u001b[39m\u001b[36m \u001b[39m\u001b[32mIn[48]\u001b[39m\u001b[32m, line 1\u001b[39m\n\u001b[32m----> \u001b[39m\u001b[32m1\u001b[39m df=\u001b[43mdict_ipl\u001b[49m\u001b[43m[\u001b[49m\u001b[32;43m0\u001b[39;49m\u001b[43m]\u001b[49m\n\u001b[32m      2\u001b[39m \u001b[38;5;28mprint\u001b[39m(df)\n",
      "\u001b[31mKeyError\u001b[39m: 0"
     ]
    }
   ],
   "source": [
    "df=dict_ipl[0]\n",
    "print(df)"
   ]
  },
  {
   "cell_type": "code",
   "execution_count": null,
   "id": "b1cd60a4-ed69-4965-8229-66222df864e1",
   "metadata": {},
   "outputs": [],
   "source": [
    "# We cannot call the dictionaries in the form of index\n",
    "# But we can call left part of it like below examples"
   ]
  },
  {
   "cell_type": "code",
   "execution_count": 49,
   "id": "bc0d13b6-6877-473b-b7b4-a203cdb4df5b",
   "metadata": {},
   "outputs": [
    {
     "data": {
      "text/plain": [
       "['CSK', 'MI']"
      ]
     },
     "execution_count": 49,
     "metadata": {},
     "output_type": "execute_result"
    }
   ],
   "source": [
    "dict_ipl['5 Time Champions']"
   ]
  },
  {
   "cell_type": "code",
   "execution_count": null,
   "id": "8a5a18d1-9304-488d-a56e-3401fefa2e29",
   "metadata": {},
   "outputs": [],
   "source": []
  }
 ],
 "metadata": {
  "kernelspec": {
   "display_name": "Python 3 (ipykernel)",
   "language": "python",
   "name": "python3"
  },
  "language_info": {
   "codemirror_mode": {
    "name": "ipython",
    "version": 3
   },
   "file_extension": ".py",
   "mimetype": "text/x-python",
   "name": "python",
   "nbconvert_exporter": "python",
   "pygments_lexer": "ipython3",
   "version": "3.13.3"
  }
 },
 "nbformat": 4,
 "nbformat_minor": 5
}
