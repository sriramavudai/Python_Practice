{
 "cells": [
  {
   "cell_type": "code",
   "execution_count": 1,
   "id": "a552ba3b-b9ee-413d-aaf5-a30e0aab5624",
   "metadata": {},
   "outputs": [
    {
     "data": {
      "text/plain": [
       "True"
      ]
     },
     "execution_count": 1,
     "metadata": {},
     "output_type": "execute_result"
    }
   ],
   "source": [
    "10 == 10"
   ]
  },
  {
   "cell_type": "code",
   "execution_count": 2,
   "id": "7f8b78df-57af-47d4-b1ab-9cfd2babb6fe",
   "metadata": {},
   "outputs": [
    {
     "data": {
      "text/plain": [
       "True"
      ]
     },
     "execution_count": 2,
     "metadata": {},
     "output_type": "execute_result"
    }
   ],
   "source": [
    "10>7"
   ]
  },
  {
   "cell_type": "code",
   "execution_count": 3,
   "id": "31165340-7be7-4956-ae00-3dfee936238f",
   "metadata": {},
   "outputs": [
    {
     "data": {
      "text/plain": [
       "False"
      ]
     },
     "execution_count": 3,
     "metadata": {},
     "output_type": "execute_result"
    }
   ],
   "source": [
    "50<5"
   ]
  },
  {
   "cell_type": "code",
   "execution_count": 4,
   "id": "e314b84a-3084-4780-aed9-5b62a04e4ef0",
   "metadata": {},
   "outputs": [
    {
     "data": {
      "text/plain": [
       "True"
      ]
     },
     "execution_count": 4,
     "metadata": {},
     "output_type": "execute_result"
    }
   ],
   "source": [
    "50 != 49"
   ]
  },
  {
   "cell_type": "code",
   "execution_count": 5,
   "id": "8dd1bcd3-5022-4ac7-b720-f53f1d85972e",
   "metadata": {},
   "outputs": [
    {
     "data": {
      "text/plain": [
       "False"
      ]
     },
     "execution_count": 5,
     "metadata": {},
     "output_type": "execute_result"
    }
   ],
   "source": [
    "'Choco' == 'Vanilla'"
   ]
  },
  {
   "cell_type": "code",
   "execution_count": 6,
   "id": "33dbce9d-16ae-48d3-b495-095cd74387bb",
   "metadata": {},
   "outputs": [
    {
     "data": {
      "text/plain": [
       "True"
      ]
     },
     "execution_count": 6,
     "metadata": {},
     "output_type": "execute_result"
    }
   ],
   "source": [
    "(50>10) and (40>10)"
   ]
  },
  {
   "cell_type": "code",
   "execution_count": 7,
   "id": "70a5dd0f-851b-46a9-8cc0-ab125be51d1e",
   "metadata": {},
   "outputs": [
    {
     "data": {
      "text/plain": [
       "False"
      ]
     },
     "execution_count": 7,
     "metadata": {},
     "output_type": "execute_result"
    }
   ],
   "source": [
    "(50<10) and (40>10)"
   ]
  },
  {
   "cell_type": "code",
   "execution_count": 10,
   "id": "1f29130c-0386-4d44-a1dc-e75901b38d60",
   "metadata": {},
   "outputs": [
    {
     "data": {
      "text/plain": [
       "True"
      ]
     },
     "execution_count": 10,
     "metadata": {},
     "output_type": "execute_result"
    }
   ],
   "source": [
    "(50<10) or (40>10)"
   ]
  },
  {
   "cell_type": "code",
   "execution_count": 18,
   "id": "afec384c-f93a-4437-83f1-7a29b3e7129a",
   "metadata": {},
   "outputs": [
    {
     "data": {
      "text/plain": [
       "False"
      ]
     },
     "execution_count": 18,
     "metadata": {},
     "output_type": "execute_result"
    }
   ],
   "source": [
    "('Choco' > 'Vanilla')"
   ]
  },
  {
   "cell_type": "markdown",
   "id": "558700f3-67b3-4058-9092-62d9926e4c14",
   "metadata": {},
   "source": [
    "## Membership Operator"
   ]
  },
  {
   "cell_type": "code",
   "execution_count": 19,
   "id": "74b60c59-5816-4064-95ba-733b2b99755c",
   "metadata": {},
   "outputs": [
    {
     "data": {
      "text/plain": [
       "True"
      ]
     },
     "execution_count": 19,
     "metadata": {},
     "output_type": "execute_result"
    }
   ],
   "source": [
    "ice_cream = 'i love ice cream'\n",
    "'love' in ice_cream"
   ]
  },
  {
   "cell_type": "code",
   "execution_count": 20,
   "id": "4a1e4e98-1179-45e5-b2e3-a58f4583823f",
   "metadata": {},
   "outputs": [
    {
     "data": {
      "text/plain": [
       "str"
      ]
     },
     "execution_count": 20,
     "metadata": {},
     "output_type": "execute_result"
    }
   ],
   "source": [
    "type(ice_cream)"
   ]
  },
  {
   "cell_type": "code",
   "execution_count": 21,
   "id": "6ab7515a-57a0-42be-9921-bb02cd3dda72",
   "metadata": {},
   "outputs": [
    {
     "data": {
      "text/plain": [
       "True"
      ]
     },
     "execution_count": 21,
     "metadata": {},
     "output_type": "execute_result"
    }
   ],
   "source": [
    "mat = (1,5,2,6,4,8,9,6,7)\n",
    "1 in mat"
   ]
  },
  {
   "cell_type": "code",
   "execution_count": 22,
   "id": "e85a4478-1f6c-41e6-9f0f-3c44d41188f3",
   "metadata": {},
   "outputs": [
    {
     "data": {
      "text/plain": [
       "True"
      ]
     },
     "execution_count": 22,
     "metadata": {},
     "output_type": "execute_result"
    }
   ],
   "source": [
    "3 not in mat"
   ]
  },
  {
   "cell_type": "code",
   "execution_count": 23,
   "id": "0d4e4b0a-0f4f-4398-9aa2-48afdf0641cd",
   "metadata": {},
   "outputs": [
    {
     "data": {
      "text/plain": [
       "False"
      ]
     },
     "execution_count": 23,
     "metadata": {},
     "output_type": "execute_result"
    }
   ],
   "source": [
    "10 in mat"
   ]
  },
  {
   "cell_type": "code",
   "execution_count": 24,
   "id": "6209e343-3ea9-4cf4-8caf-05ef87ee11da",
   "metadata": {},
   "outputs": [
    {
     "data": {
      "text/plain": [
       "False"
      ]
     },
     "execution_count": 24,
     "metadata": {},
     "output_type": "execute_result"
    }
   ],
   "source": [
    "8 not in mat"
   ]
  }
 ],
 "metadata": {
  "kernelspec": {
   "display_name": "Python 3 (ipykernel)",
   "language": "python",
   "name": "python3"
  },
  "language_info": {
   "codemirror_mode": {
    "name": "ipython",
    "version": 3
   },
   "file_extension": ".py",
   "mimetype": "text/x-python",
   "name": "python",
   "nbconvert_exporter": "python",
   "pygments_lexer": "ipython3",
   "version": "3.13.3"
  }
 },
 "nbformat": 4,
 "nbformat_minor": 5
}
